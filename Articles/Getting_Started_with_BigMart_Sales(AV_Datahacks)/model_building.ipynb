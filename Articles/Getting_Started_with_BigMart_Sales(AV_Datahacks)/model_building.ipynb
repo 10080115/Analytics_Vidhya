{
 "cells": [
  {
   "cell_type": "markdown",
   "metadata": {},
   "source": [
    "# Load libraries and data:\n",
    "The data will be the one exported from the 'exploration_and_feature_engineering' file"
   ]
  },
  {
   "cell_type": "code",
   "execution_count": 1,
   "metadata": {
    "collapsed": false
   },
   "outputs": [],
   "source": [
    "import pandas as pd\n",
    "import numpy as np\n",
    "%matplotlib inline"
   ]
  },
  {
   "cell_type": "code",
   "execution_count": 2,
   "metadata": {
    "collapsed": false
   },
   "outputs": [],
   "source": [
    "train = pd.read_csv(\"train_modified.csv\")\n",
    "test = pd.read_csv(\"test_modified.csv\")"
   ]
  },
  {
   "cell_type": "code",
   "execution_count": 3,
   "metadata": {
    "collapsed": false
   },
   "outputs": [
    {
     "name": "stdout",
     "output_type": "stream",
     "text": [
      "(8523, 34)\n"
     ]
    },
    {
     "data": {
      "text/plain": [
       "Item_Identifier               object\n",
       "Item_MRP                     float64\n",
       "Item_Outlet_Sales            float64\n",
       "Item_Visibility              float64\n",
       "Item_Weight                  float64\n",
       "Outlet_Identifier             object\n",
       "Item_Visibility_MeanRatio    float64\n",
       "Outlet_Years                   int64\n",
       "Item_Fat_Content_0           float64\n",
       "Item_Fat_Content_1           float64\n",
       "Item_Fat_Content_2           float64\n",
       "Outlet_Location_Type_0       float64\n",
       "Outlet_Location_Type_1       float64\n",
       "Outlet_Location_Type_2       float64\n",
       "Outlet_Size_0                float64\n",
       "Outlet_Size_1                float64\n",
       "Outlet_Size_2                float64\n",
       "Outlet_Type_0                float64\n",
       "Outlet_Type_1                float64\n",
       "Outlet_Type_2                float64\n",
       "Outlet_Type_3                float64\n",
       "Item_Type_Combined_0         float64\n",
       "Item_Type_Combined_1         float64\n",
       "Item_Type_Combined_2         float64\n",
       "Outlet_0                     float64\n",
       "Outlet_1                     float64\n",
       "Outlet_2                     float64\n",
       "Outlet_3                     float64\n",
       "Outlet_4                     float64\n",
       "Outlet_5                     float64\n",
       "Outlet_6                     float64\n",
       "Outlet_7                     float64\n",
       "Outlet_8                     float64\n",
       "Outlet_9                     float64\n",
       "dtype: object"
      ]
     },
     "execution_count": 3,
     "metadata": {},
     "output_type": "execute_result"
    }
   ],
   "source": [
    "print train.shape\n",
    "train.dtypes"
   ]
  },
  {
   "cell_type": "markdown",
   "metadata": {},
   "source": [
    "## Baseline models:"
   ]
  },
  {
   "cell_type": "code",
   "execution_count": 5,
   "metadata": {
    "collapsed": false
   },
   "outputs": [
    {
     "name": "stderr",
     "output_type": "stream",
     "text": [
      "/Users/aarshay/anaconda/lib/python2.7/site-packages/ipykernel/__main__.py:6: SettingWithCopyWarning: \n",
      "A value is trying to be set on a copy of a slice from a DataFrame.\n",
      "Try using .loc[row_indexer,col_indexer] = value instead\n",
      "\n",
      "See the caveats in the documentation: http://pandas.pydata.org/pandas-docs/stable/indexing.html#indexing-view-versus-copy\n"
     ]
    }
   ],
   "source": [
    "#Mean based:\n",
    "mean_sales = train['Item_Outlet_Sales'].mean()\n",
    "\n",
    "#Define a dataframe with IDs for submission:\n",
    "base1 = test[['Item_Identifier','Outlet_Identifier']]\n",
    "base1['Item_Outlet_Sales'] = mean_sales\n",
    "\n",
    "#Export submission file\n",
    "base1.to_csv(\"alg0.csv\",index=False)"
   ]
  },
  {
   "cell_type": "markdown",
   "metadata": {},
   "source": [
    "## Function to fit and generate submission file:"
   ]
  },
  {
   "cell_type": "code",
   "execution_count": 9,
   "metadata": {
    "collapsed": true
   },
   "outputs": [],
   "source": [
    "#Define target and ID columns:\n",
    "target = 'Item_Outlet_Sales'\n",
    "IDcol = ['Item_Identifier','Outlet_Identifier']\n",
    "from sklearn import cross_validation, metrics\n",
    "def modelfit(alg, dtrain, dtest, predictors, target, IDcol, filename):\n",
    "    #Fit the algorithm on the data\n",
    "    alg.fit(dtrain[predictors], dtrain[target])\n",
    "        \n",
    "    #Predict training set:\n",
    "    dtrain_predictions = alg.predict(dtrain[predictors])\n",
    "\n",
    "    #Perform cross-validation:\n",
    "    cv_score = cross_validation.cross_val_score(alg, dtrain[predictors], dtrain[target], cv=20, scoring='mean_squared_error')\n",
    "    cv_score = np.sqrt(np.abs(cv_score))\n",
    "    \n",
    "    #Print model report:\n",
    "    print \"\\nModel Report\"\n",
    "    print \"RMSE : %.4g\" % np.sqrt(metrics.mean_squared_error(dtrain[target].values, dtrain_predictions))\n",
    "    print \"CV Score : Mean - %.4g | Std - %.4g | Min - %.4g | Max - %.4g\" % (np.mean(cv_score),np.std(cv_score),np.min(cv_score),np.max(cv_score))\n",
    "    \n",
    "    #Predict on testing data:\n",
    "    dtest[target] = alg.predict(dtest[predictors])\n",
    "    \n",
    "    #Export submission file:\n",
    "    IDcol.append(target)\n",
    "    submission = pd.DataFrame({ x: dtest[x] for x in IDcol})\n",
    "    submission.to_csv(filename, index=False)"
   ]
  },
  {
   "cell_type": "markdown",
   "metadata": {},
   "source": [
    "## Linear Regression Model:"
   ]
  },
  {
   "cell_type": "code",
   "execution_count": 11,
   "metadata": {
    "collapsed": true
   },
   "outputs": [],
   "source": [
    "from sklearn.linear_model import LinearRegression, Ridge"
   ]
  },
  {
   "cell_type": "code",
   "execution_count": 12,
   "metadata": {
    "collapsed": false
   },
   "outputs": [
    {
     "name": "stdout",
     "output_type": "stream",
     "text": [
      "\n",
      "Model Report\n",
      "RMSE : 1128\n",
      "CV Score : Mean - 1129 | Std - 44.17 | Min - 1074 | Max - 1218\n",
      "\n",
      "Coefficients:\n",
      "Item_MRP                     1.557723e+01\n",
      "Item_Visibility             -2.747623e+02\n",
      "Item_Weight                 -4.096153e-01\n",
      "Item_Visibility_MeanRatio    1.000084e+02\n",
      "Outlet_Years                 1.002508e+15\n",
      "Item_Fat_Content_0           1.982563e+16\n",
      "Item_Fat_Content_1           8.532088e+15\n",
      "Item_Fat_Content_2           1.982563e+16\n",
      "Outlet_Location_Type_0      -1.286406e+16\n",
      "Outlet_Location_Type_1       2.429911e+16\n",
      "Outlet_Location_Type_2      -1.820205e+16\n",
      "Outlet_Size_0                2.422277e+16\n",
      "Outlet_Size_1                9.329826e+15\n",
      "Outlet_Size_2               -8.972439e+15\n",
      "Outlet_Type_0                1.107313e+16\n",
      "Outlet_Type_1                6.188985e+15\n",
      "Outlet_Type_2                7.895853e+15\n",
      "Outlet_Type_3                5.590700e+15\n",
      "Item_Type_Combined_0        -5.388532e+15\n",
      "Item_Type_Combined_1        -5.388532e+15\n",
      "Item_Type_Combined_2         5.905014e+15\n",
      "Outlet_0                     3.144314e+16\n",
      "Outlet_1                    -7.895514e+15\n",
      "Outlet_2                     2.848702e+15\n",
      "Outlet_3                     2.734574e+16\n",
      "Outlet_4                     1.307255e+16\n",
      "Outlet_5                     5.590700e+15\n",
      "Outlet_6                    -1.588223e+14\n",
      "Outlet_7                    -2.163838e+15\n",
      "Outlet_8                     2.998679e+16\n",
      "Outlet_9                     1.368954e+16\n",
      "dtype: float64\n"
     ]
    }
   ],
   "source": [
    "predictors = [x for x in train.columns if x not in [target]+IDcol]\n",
    "# print predictors\n",
    "alg1 = LinearRegression(normalize=True)\n",
    "modelfit(alg1, train, test, predictors, target, IDcol, 'alg1.csv')\n",
    "print '\\nCoefficients:'\n",
    "print pd.Series(alg1.coef_, predictors)"
   ]
  },
  {
   "cell_type": "markdown",
   "metadata": {},
   "source": [
    "## Ridge Regression Model:"
   ]
  },
  {
   "cell_type": "code",
   "execution_count": 37,
   "metadata": {
    "collapsed": false
   },
   "outputs": [
    {
     "name": "stdout",
     "output_type": "stream",
     "text": [
      "\n",
      "Model Report\n",
      "RMSE : 1129\n",
      "CV Score : Mean - 1130 | Std - 44.6 | Min - 1076 | Max - 1217\n",
      "\n",
      "Coefficients:\n",
      "Item_MRP                      14.809236\n",
      "Item_Visibility             -272.632195\n",
      "Item_Weight                    0.159405\n",
      "Item_Visibility_MeanRatio    -85.380187\n",
      "Outlet_Years                   3.805083\n",
      "Item_Fat_Content_0           -14.766820\n",
      "Item_Fat_Content_1           -14.555244\n",
      "Item_Fat_Content_2            25.782327\n",
      "Outlet_Location_Type_0      -113.544031\n",
      "Outlet_Location_Type_1       109.775614\n",
      "Outlet_Location_Type_2        -5.238874\n",
      "Outlet_Size_0                -29.654098\n",
      "Outlet_Size_1                200.037150\n",
      "Outlet_Size_2               -167.383803\n",
      "Outlet_Type_0               -775.566903\n",
      "Outlet_Type_1                168.360688\n",
      "Outlet_Type_2               -154.572323\n",
      "Outlet_Type_3                644.481828\n",
      "Item_Type_Combined_0          -9.352783\n",
      "Item_Type_Combined_1          14.901432\n",
      "Item_Type_Combined_2         -14.555244\n",
      "Outlet_0                    -760.699665\n",
      "Outlet_1                     -29.654098\n",
      "Outlet_2                     133.634610\n",
      "Outlet_3                    -154.572323\n",
      "Outlet_4                    -683.464415\n",
      "Outlet_5                     644.481828\n",
      "Outlet_6                     163.461540\n",
      "Outlet_7                     -48.211989\n",
      "Outlet_8                     212.889903\n",
      "Outlet_9                     -39.883052\n",
      "dtype: float64\n"
     ]
    }
   ],
   "source": [
    "predictors = [x for x in train.columns if x not in [target]+IDcol]\n",
    "alg2 = Ridge(alpha=0.05,normalize=True)\n",
    "modelfit(alg2, train, test, predictors, target, IDcol, 'alg2.csv')\n",
    "print '\\nCoefficients:'\n",
    "print pd.Series(alg2.coef_, predictors)"
   ]
  },
  {
   "cell_type": "markdown",
   "metadata": {},
   "source": [
    "## Decision Tree Model:"
   ]
  },
  {
   "cell_type": "code",
   "execution_count": 16,
   "metadata": {
    "collapsed": true
   },
   "outputs": [],
   "source": [
    "from sklearn.tree import DecisionTreeRegressor"
   ]
  },
  {
   "cell_type": "code",
   "execution_count": 17,
   "metadata": {
    "collapsed": false
   },
   "outputs": [
    {
     "name": "stdout",
     "output_type": "stream",
     "text": [
      "\n",
      "Model Report\n",
      "RMSE : 1058\n",
      "CV Score : Mean - 1091 | Std - 45.42 | Min - 1003 | Max - 1186\n",
      "\n",
      "Feature Importances:\n",
      "Item_MRP                     0.541850\n",
      "Item_Visibility              0.003911\n",
      "Item_Weight                  0.002238\n",
      "Item_Visibility_MeanRatio    0.004326\n",
      "Outlet_Years                 0.026579\n",
      "Item_Fat_Content_0           0.001099\n",
      "Item_Fat_Content_1           0.000000\n",
      "Item_Fat_Content_2           0.000000\n",
      "Outlet_Location_Type_0       0.000000\n",
      "Outlet_Location_Type_1       0.000000\n",
      "Outlet_Location_Type_2       0.000528\n",
      "Outlet_Size_0                0.000000\n",
      "Outlet_Size_1                0.000118\n",
      "Outlet_Size_2                0.000091\n",
      "Outlet_Type_0                0.318395\n",
      "Outlet_Type_1                0.004140\n",
      "Outlet_Type_2                0.000000\n",
      "Outlet_Type_3                0.000000\n",
      "Item_Type_Combined_0         0.000000\n",
      "Item_Type_Combined_1         0.000000\n",
      "Item_Type_Combined_2         0.000000\n",
      "Outlet_0                     0.000000\n",
      "Outlet_1                     0.000000\n",
      "Outlet_2                     0.000000\n",
      "Outlet_3                     0.000527\n",
      "Outlet_4                     0.000000\n",
      "Outlet_5                     0.095691\n",
      "Outlet_6                     0.000000\n",
      "Outlet_7                     0.000508\n",
      "Outlet_8                     0.000000\n",
      "Outlet_9                     0.000000\n",
      "dtype: float64\n"
     ]
    }
   ],
   "source": [
    "predictors = [x for x in train.columns if x not in [target]+IDcol]\n",
    "alg3 = DecisionTreeRegressor(max_depth=15, min_samples_leaf=100)\n",
    "modelfit(alg3, train, test, predictors, target, IDcol, 'alg3.csv')\n",
    "print '\\nFeature Importances:'\n",
    "print pd.Series(alg3.feature_importances_, predictors)"
   ]
  },
  {
   "cell_type": "code",
   "execution_count": 21,
   "metadata": {
    "collapsed": false
   },
   "outputs": [
    {
     "name": "stdout",
     "output_type": "stream",
     "text": [
      "\n",
      "Model Report\n",
      "RMSE : 1071\n",
      "CV Score : Mean - 1096 | Std - 43.3 | Min - 1027 | Max - 1172\n",
      "\n",
      "Feature Importances:\n",
      "Item_MRP         0.548508\n",
      "Outlet_Type_0    0.323598\n",
      "Outlet_5         0.003372\n",
      "Outlet_Years     0.124522\n",
      "dtype: float64\n"
     ]
    }
   ],
   "source": [
    "predictors = ['Item_MRP','Outlet_Type_0','Outlet_5','Outlet_Years']\n",
    "alg4 = DecisionTreeRegressor(max_depth=8, min_samples_leaf=150)\n",
    "modelfit(alg4, train, test, predictors, target, IDcol, 'alg4.csv')\n",
    "print '\\nFeature Importances:'\n",
    "print pd.Series(alg4.feature_importances_, predictors)"
   ]
  },
  {
   "cell_type": "markdown",
   "metadata": {},
   "source": [
    "## Random Forest Model:\n",
    "Note: random forest models are not 100% replicable. So the outputs might differ very slightly but should be around the ballpark."
   ]
  },
  {
   "cell_type": "code",
   "execution_count": 23,
   "metadata": {
    "collapsed": true
   },
   "outputs": [],
   "source": [
    "from sklearn.ensemble import RandomForestRegressor"
   ]
  },
  {
   "cell_type": "code",
   "execution_count": 24,
   "metadata": {
    "collapsed": false
   },
   "outputs": [
    {
     "name": "stdout",
     "output_type": "stream",
     "text": [
      "\n",
      "Model Report\n",
      "RMSE : 1073\n",
      "CV Score : Mean - 1083 | Std - 43.9 | Min - 1020 | Max - 1161\n",
      "\n",
      "Feature Importances:\n",
      "Outlet_9                     0.000000e+00\n",
      "Item_Type_Combined_2         0.000000e+00\n",
      "Item_Type_Combined_0         0.000000e+00\n",
      "Outlet_8                     0.000000e+00\n",
      "Outlet_6                     0.000000e+00\n",
      "Outlet_Size_2                0.000000e+00\n",
      "Outlet_1                     0.000000e+00\n",
      "Outlet_Size_0                0.000000e+00\n",
      "Item_Fat_Content_1           0.000000e+00\n",
      "Outlet_7                     0.000000e+00\n",
      "Outlet_0                     4.474509e-07\n",
      "Outlet_Location_Type_0       6.947994e-07\n",
      "Outlet_4                     7.637379e-07\n",
      "Item_Fat_Content_0           1.241221e-06\n",
      "Item_Weight                  2.343842e-06\n",
      "Item_Fat_Content_2           3.144387e-06\n",
      "Item_Type_Combined_1         9.012653e-06\n",
      "Outlet_Location_Type_1       1.489440e-05\n",
      "Outlet_Location_Type_2       1.882341e-05\n",
      "Outlet_2                     2.108708e-05\n",
      "Outlet_Size_1                3.807067e-05\n",
      "Item_Visibility              1.393305e-04\n",
      "Outlet_3                     2.472645e-04\n",
      "Item_Visibility_MeanRatio    2.513918e-04\n",
      "Outlet_Type_1                3.434825e-04\n",
      "Outlet_Type_2                3.656843e-04\n",
      "Outlet_Type_3                3.749267e-02\n",
      "Outlet_5                     3.799853e-02\n",
      "Outlet_Years                 4.770696e-02\n",
      "Outlet_Type_0                3.242770e-01\n",
      "Item_MRP                     5.510672e-01\n",
      "dtype: float64\n"
     ]
    }
   ],
   "source": [
    "predictors = [x for x in train.columns if x not in [target]+IDcol]\n",
    "alg5 = RandomForestRegressor(n_estimators=200,max_depth=5, min_samples_leaf=100,n_jobs=4)\n",
    "modelfit(alg5, train, test, predictors, target, IDcol, 'alg5.csv')\n",
    "print '\\nFeature Importances:'\n",
    "print pd.Series(alg5.feature_importances_, predictors).sort_values()"
   ]
  },
  {
   "cell_type": "code",
   "execution_count": 57,
   "metadata": {
    "collapsed": false
   },
   "outputs": [
    {
     "name": "stdout",
     "output_type": "stream",
     "text": [
      "\n",
      "Model Report\n",
      "RMSE : 1068\n",
      "CV Score : Mean - 1083 | Std - 43.63 | Min - 1019 | Max - 1161\n",
      "\n",
      "Feature Importances:\n",
      "Item_MRP                     5.495375e-01\n",
      "Item_Visibility              1.111009e-03\n",
      "Item_Weight                  8.781811e-04\n",
      "Item_Visibility_MeanRatio    9.782462e-04\n",
      "Outlet_Years                 5.353328e-02\n",
      "Item_Fat_Content_0           1.939206e-04\n",
      "Item_Fat_Content_1           1.028131e-05\n",
      "Item_Fat_Content_2           3.643779e-05\n",
      "Outlet_Location_Type_0       5.787375e-05\n",
      "Outlet_Location_Type_1       3.407967e-04\n",
      "Outlet_Location_Type_2       6.347284e-04\n",
      "Outlet_Size_0                0.000000e+00\n",
      "Outlet_Size_1                2.181069e-04\n",
      "Outlet_Size_2                7.833316e-05\n",
      "Outlet_Type_0                3.221834e-01\n",
      "Outlet_Type_1                4.724733e-04\n",
      "Outlet_Type_2                3.190431e-04\n",
      "Outlet_Type_3                3.281459e-02\n",
      "Item_Type_Combined_0         0.000000e+00\n",
      "Item_Type_Combined_1         1.891201e-05\n",
      "Item_Type_Combined_2         3.813132e-05\n",
      "Outlet_0                     3.831085e-07\n",
      "Outlet_1                     0.000000e+00\n",
      "Outlet_2                     2.065329e-05\n",
      "Outlet_3                     2.262065e-04\n",
      "Outlet_4                     6.278586e-07\n",
      "Outlet_5                     3.608604e-02\n",
      "Outlet_6                     7.455258e-05\n",
      "Outlet_7                     4.193733e-05\n",
      "Outlet_8                     4.215960e-05\n",
      "Outlet_9                     5.220563e-05\n",
      "dtype: float64\n"
     ]
    }
   ],
   "source": [
    "predictors = [x for x in train.columns if x not in [target]+IDcol]\n",
    "alg6 = RandomForestRegressor(n_estimators=400,max_depth=6, min_samples_leaf=100,n_jobs=4)\n",
    "modelfit(alg6, train, test, predictors, target, IDcol, 'alg6.csv')\n",
    "print '\\nFeature Importances:'\n",
    "print pd.Series(alg6.feature_importances_, predictors)"
   ]
  }
 ],
 "metadata": {
  "kernelspec": {
   "display_name": "Python 2",
   "language": "python",
   "name": "python2"
  },
  "language_info": {
   "codemirror_mode": {
    "name": "ipython",
    "version": 2
   },
   "file_extension": ".py",
   "mimetype": "text/x-python",
   "name": "python",
   "nbconvert_exporter": "python",
   "pygments_lexer": "ipython2",
   "version": "2.7.11"
  }
 },
 "nbformat": 4,
 "nbformat_minor": 0
}
